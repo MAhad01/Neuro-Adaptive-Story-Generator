{
 "cells": [
  {
   "cell_type": "code",
   "execution_count": 59,
   "id": "e5b4cd97",
   "metadata": {},
   "outputs": [],
   "source": [
    "# Import necessary libraries\n",
    "import torch\n",
    "from transformers import (\n",
    "    AutoModelForCausalLM,\n",
    "    AutoTokenizer,\n",
    "    Trainer,\n",
    "    TrainingArguments,\n",
    "    TextDataset,\n",
    "    DataCollatorForLanguageModeling\n",
    ")\n",
    "import os"
   ]
  },
  {
   "cell_type": "code",
   "execution_count": 60,
   "id": "7658be9f",
   "metadata": {},
   "outputs": [],
   "source": [
    "# --- Configuration ---\n",
    "# We are using the better distilgpt2 model now\n",
    "BASE_MODEL = \"distilgpt2\" \n",
    "FINETUNED_MODEL_PATH = \"../models/distilgpt2-social-story-finetuned\" # <-- Updated path\n",
    "TRAIN_DATA_FILE = \"../data/finetuning_dataset.txt\""
   ]
  },
  {
   "cell_type": "code",
   "execution_count": 61,
   "id": "35c773ea",
   "metadata": {},
   "outputs": [
    {
     "name": "stdout",
     "output_type": "stream",
     "text": [
      "Loading base model 'distilgpt2'...\n"
     ]
    }
   ],
   "source": [
    "# --- 1. Load Tokenizer and Model ---\n",
    "print(f\"Loading base model '{BASE_MODEL}'...\")\n",
    "tokenizer = AutoTokenizer.from_pretrained(BASE_MODEL)\n",
    "model = AutoModelForCausalLM.from_pretrained(BASE_MODEL)"
   ]
  },
  {
   "cell_type": "code",
   "execution_count": 62,
   "id": "f97629ae",
   "metadata": {},
   "outputs": [],
   "source": [
    "# --- NEW: Define and Add Special Tokens ---\n",
    "# This is the critical fix. We explicitly define our special tokens.\n",
    "special_tokens_dict = {\n",
    "    'bos_token': '<|startoftext|>', # Beginning of sequence\n",
    "    'eos_token': '<|endoftext|>',   # End of sequence\n",
    "    'pad_token': '<|pad|>'          # Padding token\n",
    "}"
   ]
  },
  {
   "cell_type": "code",
   "execution_count": 63,
   "id": "c703e807",
   "metadata": {},
   "outputs": [
    {
     "name": "stdout",
     "output_type": "stream",
     "text": [
      "Adding special tokens to the tokenizer...\n"
     ]
    }
   ],
   "source": [
    "print(\"Adding special tokens to the tokenizer...\")\n",
    "num_added_toks = tokenizer.add_special_tokens(special_tokens_dict)"
   ]
  },
  {
   "cell_type": "code",
   "execution_count": 64,
   "id": "960d80d4",
   "metadata": {},
   "outputs": [
    {
     "name": "stdout",
     "output_type": "stream",
     "text": [
      "Resized model embeddings to fit 3 new tokens.\n"
     ]
    }
   ],
   "source": [
    "# --- NEW: Resize model embeddings ---\n",
    "# We must resize the model's embedding layer to match the new tokenizer size.\n",
    "model.resize_token_embeddings(len(tokenizer))\n",
    "print(f\"Resized model embeddings to fit {num_added_toks} new tokens.\")"
   ]
  },
  {
   "cell_type": "code",
   "execution_count": 65,
   "id": "2b8a9522",
   "metadata": {},
   "outputs": [
    {
     "name": "stdout",
     "output_type": "stream",
     "text": [
      "Loading training data from '../data/finetuning_dataset.txt'...\n"
     ]
    },
    {
     "name": "stderr",
     "output_type": "stream",
     "text": [
      "z:\\social_story_generator\\SocialStoriesAI\\lib\\site-packages\\transformers\\data\\datasets\\language_modeling.py:53: FutureWarning: This dataset will be removed from the library soon, preprocessing should be handled with the 🤗 Datasets library. You can have a look at this example script for pointers: https://github.com/huggingface/transformers/blob/main/examples/pytorch/language-modeling/run_mlm.py\n",
      "  warnings.warn(\n"
     ]
    }
   ],
   "source": [
    "# --- 2. Prepare Dataset ---\n",
    "print(f\"Loading training data from '{TRAIN_DATA_FILE}'...\")\n",
    "train_dataset = TextDataset(\n",
    "    tokenizer=tokenizer,\n",
    "    file_path=TRAIN_DATA_FILE,\n",
    "    block_size=128\n",
    ")\n",
    "data_collator = DataCollatorForLanguageModeling(\n",
    "    tokenizer=tokenizer,\n",
    "    mlm=False\n",
    ")\n"
   ]
  },
  {
   "cell_type": "code",
   "execution_count": 66,
   "id": "778f58b4",
   "metadata": {},
   "outputs": [
    {
     "name": "stdout",
     "output_type": "stream",
     "text": [
      "Defining training arguments...\n"
     ]
    }
   ],
   "source": [
    "# --- 3. Define Training Arguments ---\n",
    "print(\"Defining training arguments...\")\n",
    "# Create the output directory if it doesn't exist\n",
    "os.makedirs(FINETUNED_MODEL_PATH, exist_ok=True)\n",
    "\n",
    "training_args = TrainingArguments(\n",
    "    output_dir=FINETUNED_MODEL_PATH,\n",
    "    overwrite_output_dir=True,\n",
    "    num_train_epochs=15,  # Increased epochs for better learning\n",
    "    per_device_train_batch_size=4,\n",
    "    save_steps=500,\n",
    "    save_total_limit=2,\n",
    "    logging_steps=50,\n",
    "    report_to=\"none\"\n",
    ")"
   ]
  },
  {
   "cell_type": "code",
   "execution_count": 67,
   "id": "149424f4",
   "metadata": {},
   "outputs": [
    {
     "name": "stdout",
     "output_type": "stream",
     "text": [
      "Initializing Trainer...\n"
     ]
    }
   ],
   "source": [
    "# --- 4. Initialize and Run Trainer ---\n",
    "print(\"Initializing Trainer...\")\n",
    "trainer = Trainer(\n",
    "    model=model,\n",
    "    args=training_args,\n",
    "    data_collator=data_collator,\n",
    "    train_dataset=train_dataset\n",
    ")"
   ]
  },
  {
   "cell_type": "code",
   "execution_count": 68,
   "id": "a8c54bab",
   "metadata": {},
   "outputs": [
    {
     "name": "stdout",
     "output_type": "stream",
     "text": [
      "--- Starting Fine-Tuning ---\n"
     ]
    },
    {
     "name": "stderr",
     "output_type": "stream",
     "text": [
      "z:\\social_story_generator\\SocialStoriesAI\\lib\\site-packages\\torch\\utils\\data\\dataloader.py:666: UserWarning: 'pin_memory' argument is set as true but no accelerator is found, then device pinned memory won't be used.\n",
      "  warnings.warn(warn_msg)\n"
     ]
    },
    {
     "data": {
      "text/html": [
       "\n",
       "    <div>\n",
       "      \n",
       "      <progress value='15' max='15' style='width:300px; height:20px; vertical-align: middle;'></progress>\n",
       "      [15/15 00:07, Epoch 15/15]\n",
       "    </div>\n",
       "    <table border=\"1\" class=\"dataframe\">\n",
       "  <thead>\n",
       " <tr style=\"text-align: left;\">\n",
       "      <th>Step</th>\n",
       "      <th>Training Loss</th>\n",
       "    </tr>\n",
       "  </thead>\n",
       "  <tbody>\n",
       "  </tbody>\n",
       "</table><p>"
      ],
      "text/plain": [
       "<IPython.core.display.HTML object>"
      ]
     },
     "metadata": {},
     "output_type": "display_data"
    },
    {
     "name": "stdout",
     "output_type": "stream",
     "text": [
      "--- Fine-Tuning Complete ---\n"
     ]
    }
   ],
   "source": [
    "print(\"--- Starting Fine-Tuning ---\")\n",
    "trainer.train()\n",
    "print(\"--- Fine-Tuning Complete ---\")"
   ]
  },
  {
   "cell_type": "code",
   "execution_count": 69,
   "id": "0c65dadd",
   "metadata": {},
   "outputs": [
    {
     "name": "stdout",
     "output_type": "stream",
     "text": [
      "Saving fine-tuned model to '../models/distilgpt2-social-story-finetuned'...\n",
      "Model saved successfully!\n"
     ]
    }
   ],
   "source": [
    "# --- 5. Save the Fine-Tuned Model and Tokenizer ---\n",
    "print(f\"Saving fine-tuned model to '{FINETUNED_MODEL_PATH}'...\")\n",
    "model.save_pretrained(FINETUNED_MODEL_PATH)\n",
    "tokenizer.save_pretrained(FINETUNED_MODEL_PATH)\n",
    "print(\"Model saved successfully!\")"
   ]
  }
 ],
 "metadata": {
  "kernelspec": {
   "display_name": "SocialStoriesAI",
   "language": "python",
   "name": "python3"
  },
  "language_info": {
   "codemirror_mode": {
    "name": "ipython",
    "version": 3
   },
   "file_extension": ".py",
   "mimetype": "text/x-python",
   "name": "python",
   "nbconvert_exporter": "python",
   "pygments_lexer": "ipython3",
   "version": "3.9.13"
  }
 },
 "nbformat": 4,
 "nbformat_minor": 5
}
